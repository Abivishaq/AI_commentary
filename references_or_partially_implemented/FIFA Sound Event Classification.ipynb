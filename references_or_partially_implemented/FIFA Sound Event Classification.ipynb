{
 "cells": [
  {
   "cell_type": "code",
   "execution_count": null,
   "metadata": {},
   "outputs": [],
   "source": [
    "https://towardsdatascience.com/sound-event-classification-using-machine-learning-8768092beafc"
   ]
  },
  {
   "cell_type": "code",
   "execution_count": 6,
   "metadata": {},
   "outputs": [],
   "source": [
    "import librosa#added by me, coz of the weird NameError: name 'librosa' is not defined"
   ]
  },
  {
   "cell_type": "code",
   "execution_count": 7,
   "metadata": {},
   "outputs": [
    {
     "name": "stdout",
     "output_type": "stream",
     "text": [
      "Original audio file:\n"
     ]
    },
    {
     "ename": "NameError",
     "evalue": "name 'plotAudio' is not defined",
     "output_type": "error",
     "traceback": [
      "\u001b[1;31m---------------------------------------------------------------------------\u001b[0m",
      "\u001b[1;31mNameError\u001b[0m                                 Traceback (most recent call last)",
      "\u001b[1;32m<ipython-input-7-7887c5ce5986>\u001b[0m in \u001b[0;36m<module>\u001b[1;34m\u001b[0m\n\u001b[0;32m      7\u001b[0m \u001b[1;31m# Visualize\u001b[0m\u001b[1;33m\u001b[0m\u001b[1;33m\u001b[0m\u001b[1;33m\u001b[0m\u001b[0m\n\u001b[0;32m      8\u001b[0m \u001b[0mprint\u001b[0m\u001b[1;33m(\u001b[0m\u001b[1;34m\"Original audio file:\"\u001b[0m\u001b[1;33m)\u001b[0m\u001b[1;33m\u001b[0m\u001b[1;33m\u001b[0m\u001b[0m\n\u001b[1;32m----> 9\u001b[1;33m \u001b[0mplotAudio\u001b[0m\u001b[1;33m(\u001b[0m\u001b[0maudio_data\u001b[0m\u001b[1;33m)\u001b[0m\u001b[1;33m\u001b[0m\u001b[1;33m\u001b[0m\u001b[0m\n\u001b[0m\u001b[0;32m     10\u001b[0m \u001b[0mprint\u001b[0m\u001b[1;33m(\u001b[0m\u001b[1;34m\"Noise removed audio file:\"\u001b[0m\u001b[1;33m)\u001b[0m\u001b[1;33m\u001b[0m\u001b[1;33m\u001b[0m\u001b[0m\n\u001b[0;32m     11\u001b[0m \u001b[0mplotAudio\u001b[0m\u001b[1;33m(\u001b[0m\u001b[0mreduced_noise\u001b[0m\u001b[1;33m)\u001b[0m\u001b[1;33m\u001b[0m\u001b[1;33m\u001b[0m\u001b[0m\n",
      "\u001b[1;31mNameError\u001b[0m: name 'plotAudio' is not defined"
     ]
    }
   ],
   "source": [
    "import noisereduce as nr\n",
    "# Load audio file\n",
    "audio_data, sampling_rate = librosa.load(\"FIFA18_Audio.wav\")#FIFA file here\n",
    "# Noise reduction\n",
    "noisy_part = audio_data[0:25000]  \n",
    "reduced_noise = nr.reduce_noise(audio_clip=audio_data, noise_clip=noisy_part, verbose=False)\n",
    "# Visualize\n",
    "print(\"Original audio file:\")\n",
    "plotAudio(audio_data)\n",
    "print(\"Noise removed audio file:\")\n",
    "plotAudio(reduced_noise)"
   ]
  },
  {
   "cell_type": "code",
   "execution_count": null,
   "metadata": {},
   "outputs": [],
   "source": [
    "trimmed, index = librosa.effects.trim(reduced_noise, top_db=20, frame_length=512, hop_length=64)\n",
    "print(“Trimmed audio file:”)\n",
    "plotAudio(trimmed)"
   ]
  },
  {
   "cell_type": "code",
   "execution_count": null,
   "metadata": {},
   "outputs": [],
   "source": [
    "stft = np.abs(librosa.stft(trimmed, n_fft=512, hop_length=256, win_length=512))"
   ]
  },
  {
   "cell_type": "code",
   "execution_count": null,
   "metadata": {},
   "outputs": [],
   "source": [
    "# build model\n",
    "model = Sequential()model.add(Dense(256, input_shape=(257,)))\n",
    "model.add(Activation(‘relu’))\n",
    "\n",
    "model.add(Dense(256))\n",
    "model.add(Activation(‘relu’))\n",
    "\n",
    "model.add(Dense(128))\n",
    "model.add(Activation(‘relu’))\n",
    "\n",
    "model.add(Dense(128))\n",
    "model.add(Activation(‘relu’))\n",
    "model.add(Dropout(0.5))\n",
    "model.add(Dense(num_labels))\n",
    "model.add(Activation(‘relu’))\n",
    "model.compile(loss=’categorical_crossentropy’, metrics=[‘accuracy’], optimizer=’adam’)"
   ]
  },
  {
   "cell_type": "code",
   "execution_count": null,
   "metadata": {},
   "outputs": [],
   "source": []
  }
 ],
 "metadata": {
  "kernelspec": {
   "display_name": "Python 3",
   "language": "python",
   "name": "python3"
  }
 },
 "nbformat": 4,
 "nbformat_minor": 2
}
